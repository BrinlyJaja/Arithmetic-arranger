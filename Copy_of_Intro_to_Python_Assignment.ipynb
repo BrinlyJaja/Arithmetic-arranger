{
  "nbformat": 4,
  "nbformat_minor": 0,
  "metadata": {
    "colab": {
      "provenance": [],
      "include_colab_link": true
    },
    "kernelspec": {
      "name": "python3",
      "display_name": "Python 3"
    },
    "language_info": {
      "name": "python"
    }
  },
  "cells": [
    {
      "cell_type": "markdown",
      "metadata": {
        "id": "view-in-github",
        "colab_type": "text"
      },
      "source": [
        "<a href=\"https://colab.research.google.com/github/BrinlyJaja/Arithmetic-arranger/blob/main/Copy_of_Intro_to_Python_Assignment.ipynb\" target=\"_parent\"><img src=\"https://colab.research.google.com/assets/colab-badge.svg\" alt=\"Open In Colab\"/></a>"
      ]
    },
    {
      "cell_type": "markdown",
      "source": [
        "# Python Assignment - Google Colab Notebook\n",
        "\n",
        "### Instructions\n",
        "This assignment will test your knowledge on Python basics, control flow, data structures, and functions. You will need to write a function for each question and ensure it returns the correct output. The assignment will be automatically graded using test functions. Follow the instructions carefully for each question.\n",
        "\n",
        "## Table of Contents\n",
        "\n",
        "1. Question 1: Python Basics\n",
        "2. Question 2: Control Flow\n",
        "3. Question 3: Data Structures\n",
        "4. Question 4: Functions and Critical Thinking\n"
      ],
      "metadata": {
        "id": "mV1oWM0uB0dt"
      }
    },
    {
      "cell_type": "markdown",
      "source": [
        "### Question 1: Python Basics\n",
        "\n",
        "**Task:** Write a function named `capitalize_words` that takes a string as input and returns a new string where every word is capitalized. Assume that words are separated by spaces.\n",
        "\n",
        "**Function Signature:**\n",
        "```python\n",
        "def capitalize_words(input_string):\n",
        "    pass\n",
        "```\n",
        "\n",
        "**Example:**\n",
        "```python\n",
        "print(capitalize_words(\"hello world\"))  # Output: \"Hello World\"\n",
        "print(capitalize_words(\"python programming is fun\"))  # Output: \"Python Programming Is Fun\"\n",
        "```\n",
        "\n",
        "<br>\n",
        "<br>\n",
        "\n",
        "### Write your code in the cell below:"
      ],
      "metadata": {
        "id": "JrOc9i3UB5p3"
      }
    },
    {
      "cell_type": "code",
      "source": [
        "# This is the function that you need to populate with your code\n",
        "def capitalize_words(input_string):\n",
        "    pass\n",
        "\n",
        "    ## Write your code here\n",
        "    return ' '.join(word.capitalize() for word in input_string.split())\n",
        "    ### Your code ends here"
      ],
      "metadata": {
        "id": "tUtZ9Ar0CCKs"
      },
      "execution_count": 13,
      "outputs": []
    },
    {
      "cell_type": "code",
      "source": [
        "# Example tests for your reference\n",
        "print(capitalize_words(\"hello world\"))  # Output: \"Hello World\"\n",
        "print(capitalize_words(\"python programming is fun\"))  # Output: \"Python Programming Is Fun\""
      ],
      "metadata": {
        "colab": {
          "base_uri": "https://localhost:8080/"
        },
        "id": "c7rUY8JFCIbA",
        "outputId": "2b5a82ab-add2-46c3-decd-ecf8bf1e61fc"
      },
      "execution_count": 14,
      "outputs": [
        {
          "output_type": "stream",
          "name": "stdout",
          "text": [
            "Hello World\n",
            "Python Programming Is Fun\n"
          ]
        }
      ]
    },
    {
      "cell_type": "markdown",
      "source": [
        "\n",
        "\n",
        "---\n",
        "\n"
      ],
      "metadata": {
        "id": "oHQbA81qEET2"
      }
    },
    {
      "cell_type": "markdown",
      "source": [
        "## Question 2: Control Flow\n",
        "\n",
        "**Task:** Write a function named `fizz_buzz` that takes three integers as input: `start`, `end`, and `divisor`. The function should return a list of strings. For each number from `start` to `end` (inclusive), the function should:\n",
        "- Add \"Fizz\" to the list if the number is divisible by `divisor`.\n",
        "- Add the number itself as a string to the list if it is not divisible by `divisor`.\n",
        "\n",
        "**Function Signature:**\n",
        "```python\n",
        "def fizz_buzz(start, end, divisor):\n",
        "    pass\n",
        "```\n",
        "\n",
        "**Example:**\n",
        "```python\n",
        "print(fizz_buzz(1, 10, 3))  \n",
        "# Output: ['1', '2', 'Fizz', '4', '5', 'Fizz', '7', '8', 'Fizz', '10']\n",
        "print(fizz_buzz(5, 15, 5))  \n",
        "# Output: ['Fizz', '6', '7', '8', '9', 'Fizz', '11', '12', '13', '14', 'Fizz']\n",
        "```\n",
        "\n",
        "For the range from start to end, if a number is divisible by divisor, the string \"Fizz\" should be added to the result list.\n",
        "\n",
        "If a number is not divisible by divisor, the number itself should be added as a string to the result list.\n",
        "\n",
        "For example, `fizz_buzz(1, 10, 3)` results in ['1', '2', 'Fizz', '4', '5', 'Fizz', '7', '8', 'Fizz', '10'] because 3, 6, and 9 are divisible by 3, so\n",
        "`\"Fizz\"` is added for these numbers. The other numbers are not divisible by 3, so their string representations are added.\n",
        "\n",
        "Similarly, `fizz_buzz(5, 15, 5)` results in ['Fizz', '6', '7', '8', '9', 'Fizz', '11', '12', '13', '14', 'Fizz'] because 5, 10, and 15 are divisible by 5, so \"Fizz\" is added for these numbers. The other numbers are not divisible by 5, so their string representations are added.\n",
        "<br>\n",
        "<br>\n",
        "### Write your code in the cell below:"
      ],
      "metadata": {
        "id": "QUInqEwWCryU"
      }
    },
    {
      "cell_type": "code",
      "source": [
        "# This is the function that you need to populate with your code\n",
        "def fizz_buzz(start, end, divisor):\n",
        "\n",
        "\n",
        "\n",
        "\n",
        "    ## Write your code here\n",
        "   result = []\n",
        "   for num in range(start, end + 1):\n",
        "    if num % divisor == 0:\n",
        "      result.append('Fizz')\n",
        "    else:\n",
        "      result.append(str(num))\n",
        "\n",
        "   return result\n",
        "\n",
        "\n",
        "    ### Your code ends here"
      ],
      "metadata": {
        "id": "pW9mtSdyCtJ3",
        "colab": {
          "base_uri": "https://localhost:8080/",
          "height": 105
        },
        "outputId": "c7a2f140-1462-4f47-b23d-07807eabc0a8"
      },
      "execution_count": 15,
      "outputs": [
        {
          "output_type": "error",
          "ename": "IndentationError",
          "evalue": "unexpected indent (<ipython-input-15-fe884f81694d>, line 8)",
          "traceback": [
            "\u001b[0;36m  File \u001b[0;32m\"<ipython-input-15-fe884f81694d>\"\u001b[0;36m, line \u001b[0;32m8\u001b[0m\n\u001b[0;31m    result = []\u001b[0m\n\u001b[0m    ^\u001b[0m\n\u001b[0;31mIndentationError\u001b[0m\u001b[0;31m:\u001b[0m unexpected indent\n"
          ]
        }
      ]
    },
    {
      "cell_type": "code",
      "source": [
        "# Example tests for your reference\n",
        "print(fizz_buzz(1, 10, 3))\n",
        "# Output: ['1', '2', 'Fizz', '4', '5', 'Fizz', '7', '8', 'Fizz', '10']\n",
        "print(fizz_buzz(5, 15, 5))\n",
        "# Output: ['Fizz', '6', '7', '8', '9', 'Fizz', '11', '12', '13', '14', 'Fizz']"
      ],
      "metadata": {
        "id": "-ci-C8yXD0Gt",
        "colab": {
          "base_uri": "https://localhost:8080/"
        },
        "outputId": "c0cc2475-3e87-4f48-d61e-dd6b197b49c6"
      },
      "execution_count": 16,
      "outputs": [
        {
          "output_type": "stream",
          "name": "stdout",
          "text": [
            "['1', '2', 'Fizz', '4', '5', 'Fizz', '7', '8', 'Fizz', '10']\n",
            "['Fizz', '6', '7', '8', '9', 'Fizz', '11', '12', '13', '14', 'Fizz']\n"
          ]
        }
      ]
    },
    {
      "cell_type": "markdown",
      "source": [
        "\n",
        "\n",
        "---\n",
        "\n"
      ],
      "metadata": {
        "id": "XK58oXSqECcx"
      }
    },
    {
      "cell_type": "markdown",
      "source": [
        "## Question 3: Data Structures\n",
        "\n",
        "**Task:** Write a function named `unique_elements` that takes a list of lists as input and returns a set of unique elements found in all the nested lists.\n",
        "\n",
        "\n",
        "\n",
        "**Function Signature:**\n",
        "```python\n",
        "def unique_elements(nested_lists):\n",
        "    pass\n",
        "```\n",
        "\n",
        "**Example:**\n",
        "```python\n",
        "print(unique_elements([[1, 2, 3], [2, 3, 4], [4, 5, 6]]))  \n",
        "# Output: {1, 2, 3, 4, 5, 6}\n",
        "print(unique_elements([[10, 20], [20, 30, 40], [10, 50]]))  \n",
        "# Output: {10, 20, 30, 40, 50}\n",
        "```\n",
        "\n",
        "**Note: Sets are unordered, so don't pay too much attention to the order of the set. Just return the set that you get and make sure that it has all the values. Order is irrelevant.**\n",
        "\n",
        "<br>\n",
        "<br>\n",
        "\n",
        "### Write your code in the cell below:"
      ],
      "metadata": {
        "id": "22smwKIjEKJy"
      }
    },
    {
      "cell_type": "code",
      "source": [
        "# This is the function that you need to populate with your code\n",
        "def unique_elements(nested_lists):\n",
        "\n",
        "    ## Write your code here\n",
        "  unique_set = set()\n",
        "  for sublist in nested_lists:\n",
        "    unique_set.update(sublist)\n",
        "  return unique_set\n",
        "\n",
        "    ### Your code ends here"
      ],
      "metadata": {
        "id": "L8wiWBGIEP9c"
      },
      "execution_count": 17,
      "outputs": []
    },
    {
      "cell_type": "code",
      "source": [
        "# Example tests for your reference\n",
        "print(unique_elements([[1, 2, 3], [2, 3, 4], [4, 5, 6]]))\n",
        "# Output: {1, 2, 3, 4, 5, 6}\n",
        "print(unique_elements([[10, 20], [20, 30, 40], [10, 50]]))\n",
        "# Output: {10, 20, 30, 40, 50}"
      ],
      "metadata": {
        "id": "q7P4JhFFEVuj",
        "colab": {
          "base_uri": "https://localhost:8080/"
        },
        "outputId": "6b5276df-08b1-4daa-aee4-6b130a9b3923"
      },
      "execution_count": 18,
      "outputs": [
        {
          "output_type": "stream",
          "name": "stdout",
          "text": [
            "{1, 2, 3, 4, 5, 6}\n",
            "{40, 10, 50, 20, 30}\n"
          ]
        }
      ]
    },
    {
      "cell_type": "markdown",
      "source": [
        "\n",
        "\n",
        "---\n",
        "\n"
      ],
      "metadata": {
        "id": "J3nPrtRWD88Z"
      }
    },
    {
      "cell_type": "markdown",
      "source": [
        "## Question 4: Functions and Critical Thinking\n",
        "\n",
        "**Task:** Write a function named `word_frequency` that takes a string and returns a dictionary where the keys are words and the values are the number of times each word appears in the string. Ignore punctuation and make the function case-insensitive.\n",
        "\n",
        "**Function Signature:**\n",
        "```python\n",
        "def word_frequency(input_string):\n",
        "    pass\n",
        "```\n",
        "\n",
        "**Example:**\n",
        "```python\n",
        "print(word_frequency(\"Hello world! Hello everyone.\"))\n",
        "# Output: {'hello': 2, 'world': 1, 'everyone': 1}\n",
        "print(word_frequency(\"Python programming is fun. Programming in Python is exciting.\"))\n",
        "# Output: {'python': 2, 'programming': 2, 'is': 2, 'fun': 1, 'in': 1, 'exciting': 1}\n",
        "```\n",
        "\n",
        "<br>\n",
        "<br>\n",
        "\n",
        "### Write your code in the cell below:"
      ],
      "metadata": {
        "id": "vSKyV7tqE5GX"
      }
    },
    {
      "cell_type": "code",
      "source": [
        "# This is the function that you need to populate with your code\n",
        "def word_frequency(input_string):\n",
        "    pass\n",
        "\n",
        "    ## Write your code here\n",
        "\n",
        "\n",
        "    ### Your code ends here"
      ],
      "metadata": {
        "id": "StICgRT8FElr"
      },
      "execution_count": null,
      "outputs": []
    },
    {
      "cell_type": "code",
      "source": [
        "# Example tests for your reference\n",
        "print(word_frequency(\"Hello world! Hello everyone.\"))\n",
        "# Output: {'hello': 2, 'world': 1, 'everyone': 1}\n",
        "print(word_frequency(\"Python programming is fun. Programming in Python is exciting.\"))\n",
        "# Output: {'python': 2, 'programming': 2, 'is': 2, 'fun': 1, 'in': 1, 'exciting': 1}"
      ],
      "metadata": {
        "id": "I70jUnT8FE2b"
      },
      "execution_count": null,
      "outputs": []
    },
    {
      "cell_type": "markdown",
      "source": [
        "\n",
        "\n",
        "---\n",
        "\n"
      ],
      "metadata": {
        "id": "s9eGFM4fFSGW"
      }
    }
  ]
}